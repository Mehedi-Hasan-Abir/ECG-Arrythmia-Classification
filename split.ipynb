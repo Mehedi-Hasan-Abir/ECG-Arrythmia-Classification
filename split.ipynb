{
 "cells": [
  {
   "cell_type": "code",
   "execution_count": 19,
   "metadata": {},
   "outputs": [
    {
     "name": "stdout",
     "output_type": "stream",
     "text": [
      "C:/thesis/MIT-BIH_AD/NOR/*\n",
      "C:/thesis/MIT-BIH_AD/LBBB/*\n",
      "C:/thesis/MIT-BIH_AD/RBBB/*\n",
      "C:/thesis/MIT-BIH_AD/APC/*\n",
      "C:/thesis/MIT-BIH_AD/PVC/*\n",
      "C:/thesis/MIT-BIH_AD/PAB/*\n",
      "C:/thesis/MIT-BIH_AD/VEB/*\n",
      "C:/thesis/MIT-BIH_AD/VFW\\*\n",
      "train:64286 val:21429 test:21433 tol:107148\n"
     ]
    }
   ],
   "source": [
    "from glob import glob\n",
    "import os\n",
    "import numpy as np\n",
    "import random\n",
    "\n",
    "\n",
    "if __name__ == '__main__':\n",
    "    dataset_root = 'C:/thesis/MIT-BIH_AD/'\n",
    "    dataset_roots = '/content/'\n",
    "    output_dirs = ['NOR/', 'LBBB/', 'RBBB/', 'APC/', 'PVC/', 'PAB/', 'VEB/', 'VFW']\n",
    "\n",
    "    count = 0\n",
    "    pathes_by_type = {}\n",
    "    for type in output_dirs:\n",
    "        dir = os.path.join(dataset_root, type,'*')\n",
    "        print(dir)\n",
    "        paths = glob(dir)\n",
    "        #for path in paths: \n",
    "            #print(path)\n",
    "        pathes_by_type[type] = paths\n",
    "        count += len(paths)\n",
    "\n",
    "    train_list = []\n",
    "    val_list = []\n",
    "    test_list = []\n",
    "\n",
    "    for type in output_dirs:\n",
    "        cur = pathes_by_type[type]\n",
    "        if len(cur) is 0:\n",
    "            continue\n",
    "\n",
    "        random.shuffle(cur)\n",
    "\n",
    "        for i in range(int(len(cur)*0.6)):\n",
    "            temp = cur[i].split('\\\\')\n",
    "            train_list.append('{} {}'.format(os.path.join(temp[-2], temp[-1]), output_dirs.index(type)))\n",
    "            cur[i] = None\n",
    "\n",
    "        for i in range(int(len(cur)*0.6), int(len(cur)*0.8)):\n",
    "            if cur[i] is None:\n",
    "                continue\n",
    "            else:\n",
    "                temp = cur[i].split('\\\\')\n",
    "                val_list.append('{} {}'.format(os.path.join(temp[-2], temp[-1]), output_dirs.index(type)))\n",
    "                cur[i] = None\n",
    "\n",
    "        for i in range(int(len(cur) * 0.8), len(cur)):\n",
    "            if cur[i] is None:\n",
    "                continue\n",
    "            else:\n",
    "                temp = cur[i].split('\\\\')\n",
    "                test_list.append('{} {}'.format(os.path.join(temp[-2], temp[-1]), output_dirs.index(type)))\n",
    "                cur[i] = None\n",
    "\n",
    "        with open('MIT-BIH_AD_val.txt', 'w') as val:\n",
    "            for v in val_list:\n",
    "                #print(v)\n",
    "                v = v.replace('\\\\' , '/')\n",
    "                v = v.replace(\"C:/thesis/\" , \"\")\n",
    "                #print(v)\n",
    "                val.write(dataset_roots+v[:-2]+'\\n')\n",
    "\n",
    "        with open('MIT-BIH_AD_train.txt', 'w') as train:\n",
    "            for r in train_list:\n",
    "                r = r.replace('\\\\' , '/')\n",
    "                r = r.replace(\"C:/thesis/\" , \"\")\n",
    "                train.write(dataset_roots+r[:-2]+'\\n')\n",
    "\n",
    "        with open('MIT-BIH_AD_test.txt', 'w') as test:\n",
    "            for t in test_list:\n",
    "                t = t.replace('\\\\' , '/')\n",
    "                t = t.replace(\"C:/thesis/\" , \"\")\n",
    "                test.write(dataset_roots+t[:-2]+'\\n')\n",
    "\n",
    "    print('train:{} val:{} test:{} tol:{}'.format(len(train_list), len(val_list), len(test_list), count))"
   ]
  },
  {
   "cell_type": "code",
   "execution_count": 1,
   "metadata": {
    "scrolled": true
   },
   "outputs": [
    {
     "name": "stdout",
     "output_type": "stream",
     "text": [
      "Collecting package metadata (current_repodata.json): ...working... done\n",
      "Solving environment: ...working... failed with initial frozen solve. Retrying with flexible solve.\n",
      "Collecting package metadata (repodata.json): ...working... done\n",
      "Solving environment: ...working... failed with initial frozen solve. Retrying with flexible solve.\n",
      "\n",
      "Note: you may need to restart the kernel to use updated packages.\n"
     ]
    },
    {
     "name": "stderr",
     "output_type": "stream",
     "text": [
      "\n",
      "PackagesNotFoundError: The following packages are not available from current channels:\n",
      "\n",
      "  - cudatoolkit=14.0\n",
      "\n",
      "Current channels:\n",
      "\n",
      "  - https://conda.anaconda.org/pytorch/win-64\n",
      "  - https://conda.anaconda.org/pytorch/noarch\n",
      "  - https://repo.anaconda.com/pkgs/main/win-64\n",
      "  - https://repo.anaconda.com/pkgs/main/noarch\n",
      "  - https://repo.anaconda.com/pkgs/r/win-64\n",
      "  - https://repo.anaconda.com/pkgs/r/noarch\n",
      "  - https://repo.anaconda.com/pkgs/msys2/win-64\n",
      "  - https://repo.anaconda.com/pkgs/msys2/noarch\n",
      "\n",
      "To search for alternate channels that may provide the conda package you're\n",
      "looking for, navigate to\n",
      "\n",
      "    https://anaconda.org\n",
      "\n",
      "and use the search bar at the top of the page.\n",
      "\n",
      "\n"
     ]
    }
   ],
   "source": [
    "#conda install pytorch torchvision cudatoolkit=14.0 -c pytorch"
   ]
  }
 ],
 "metadata": {
  "kernelspec": {
   "display_name": "Python 3",
   "language": "python",
   "name": "python3"
  },
  "language_info": {
   "codemirror_mode": {
    "name": "ipython",
    "version": 3
   },
   "file_extension": ".py",
   "mimetype": "text/x-python",
   "name": "python",
   "nbconvert_exporter": "python",
   "pygments_lexer": "ipython3",
   "version": "3.7.3"
  }
 },
 "nbformat": 4,
 "nbformat_minor": 4
}
